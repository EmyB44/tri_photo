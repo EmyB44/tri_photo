import os
import shutil
from PIL import Image

#Génère une empreinte (hash) de l'image pour la comparer.
def dhash(image, hash_size=8):
    
    image = image.convert("L").resize((hash_size + 1, hash_size), Image.LANCZOS)
    pixels = list(image.getdata())
    difference = []
    for row in range(hash_size):
        for col in range(hash_size):
            difference.append(pixels[row * (hash_size + 1) + col] > pixels[row * (hash_size + 1) + (col + 1)])
    return ''.join(str(int(bit)) for bit in difference)

#Détecte et déplace les images en doublon vers un dossier 'doublons'
def find_and_move_duplicates(directory):
    
    hashes = {}
    duplicates = []
    duplicate_folder = os.path.join(directory, "doublons")

    # Crée le dossier des doublons s'il n'existe pas
    if not os.path.exists(duplicate_folder):
        os.makedirs(duplicate_folder)

    print(f"🎯 Dossier cible : {directory}")
    print(f"🔄 Recherche dans le dossier : {directory}")

    for root, _, files in os.walk(directory):
        for filename in files:
            if filename.lower().endswith((".png", ".jpg", ".jpeg", ".gif", ".bmp")):
                filepath = os.path.join(root, filename)
                print(f"🔍 Analyser l'image : {filepath}")

                try:
                    with Image.open(filepath) as img:
                        img_hash = dhash(img)
                        print(f"📸 Hash de l'image : {img_hash}")

                    if img_hash in hashes:
                        print(f"🔁 Doublon trouvé : {filepath}")
                        duplicates.append(filepath)
                        try:
                            shutil.move(filepath, os.path.join(duplicate_folder, filename))  # Déplace le fichier
                            print(f"✅ Déplacé : {filepath} → {duplicate_folder}/{filename}")
                        except PermissionError as pe:
                            print(f"❌ Impossible de déplacer {filepath} car le fichier est utilisé : {pe}")
                        except Exception as e:
                            print(f"❌ Autre erreur avec {filepath} : {e}")
                    else:
                        hashes[img_hash] = filepath

                except Exception as e:
                    print(f"❌ Erreur avec {filepath} : {e}")
                    continue

    if duplicates:
        print(f"\n✅ {len(duplicates)} doublon(s) déplacé(s) dans '{duplicate_folder}'.")
    else:
        print("\n✅ Aucun doublon trouvé.")

    return duplicates

# 📂 Chemin du dossier à analyser personnaliser avec le votre
folder_path = r"C:\Users\...."

# 🔎 Lancer la recherche et déplacer les doublons
duplicates = find_and_move_duplicates(folder_path)
